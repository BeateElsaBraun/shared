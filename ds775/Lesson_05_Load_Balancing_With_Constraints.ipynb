{
 "cells": [
  {
   "cell_type": "code",
   "execution_count": 1,
   "metadata": {},
   "outputs": [],
   "source": [
    "#imports\n",
    "import numpy as np"
   ]
  },
  {
   "cell_type": "markdown",
   "metadata": {},
   "source": [
    "# Load Balancing With Contraints Example\n",
    "\n",
    "**Note: Make sure you've already read Part 1, in which we do this problem without constraints. We'll only be explaining the new bits here.**\n",
    "\n",
    "In this example we're going to show how you could use various approaches to solve a **constrained** load balancing problem. \n",
    "\n",
    "For this problem, we're talking execution times on computer processors, with total execution time on certain processors limited to a certain amount. You might see this happen when one processor needs to \"reserve\" processing cycles for some other job not in our load balancing list. \n",
    "\n",
    "We can describe it as:\n",
    "\n",
    "given a list of $n$ execution times, divide them to be executed on $k$ processors so that the total execution time on each processor is as close to the same as possible, while $y$ constrained processors are under $x$ execution time limit."
   ]
  },
  {
   "cell_type": "markdown",
   "metadata": {},
   "source": [
    "## Hard Constraint\n",
    "A hard constraint is a constraint which rejects any solution that doesn't meet our specifications. We've seen these before. In Pyomo we used hard constraints. We can use hard constraints with some of our metaheuristics methods. We'll use hard constraints with greedy local search and simulated annealing.\n",
    "\n",
    "### Move Function\n",
    "Our move function for the constrained problem does not change at all. It's identical to the unconstrained problem. (If you need a refresher on what the move function is doing, please see the Lesson_05_Load_Balancing notebook.)"
   ]
  },
  {
   "cell_type": "code",
   "execution_count": 2,
   "metadata": {},
   "outputs": [],
   "source": [
    "# define a move function which changes one processor assignment randomly\n",
    "def reassign_one(assign,k):\n",
    "    # pick one of the jobs and assign it to one of k processors\n",
    "    n = len(assign)\n",
    "    # choose a job and a new processor assignment\n",
    "    which_job = np.random.randint(0,n,1)[0]\n",
    "    which_proc = np.random.randint(0,k,1)[0]\n",
    "    new_assign = assign.copy()\n",
    "    new_assign[which_job] = which_proc\n",
    "    return new_assign\n"
   ]
  },
  {
   "cell_type": "markdown",
   "metadata": {},
   "source": [
    "### Hard Constraint - Objective Function\n",
    "For a hard constraint, our objective function remains identical, too. (If you need a refresher on what the move function is doing, please see the Lesson_05_Load_Balancing notebook.)\n"
   ]
  },
  {
   "cell_type": "code",
   "execution_count": 3,
   "metadata": {},
   "outputs": [],
   "source": [
    "# original objective function = total squared deviation of times from balanced times\n",
    "def balance_metric(assign,times,k):\n",
    "    target = sum(times)/k\n",
    "    return sum( (sum(times[assign==j])-target)**2 for j in range(k) )\n"
   ]
  },
  {
   "cell_type": "markdown",
   "metadata": {},
   "source": [
    "### Greedy Local Search - Hard Constraint\n",
    "\n",
    "To implement the hard constraint in our greedy local search, we'll reject any solution that doesn't meet our constraints. \n",
    "\n",
    "We'll update the function to take in 2 additional parameters:\n",
    "\n",
    "* conproc - a list of the processors to constrain\n",
    "* conmax - a list of the max times on each processor.\n",
    "\n",
    "Then, after we've made a move, we'll check to see that the new assignments are valid (meet our constraints). If they don't, we'll reject that move and iterate. \n",
    "\n",
    "We'll also track whether the algorithm ever finds a solution that meets the constraints. It's possible with a hard constraint that we never find a solution that works.\n"
   ]
  },
  {
   "cell_type": "code",
   "execution_count": 4,
   "metadata": {},
   "outputs": [],
   "source": [
    "# local search function\n",
    "def load_balance_local(times, k, max_no_improve,conproc,conmax):\n",
    "    n = len(times)\n",
    "    # starts from a random assignment to k processors\n",
    "    current_x = np.random.randint(low=0,high=k,size=n)\n",
    "    current_f = balance_metric(current_x, times, k)\n",
    "    best_x = current_x\n",
    "    best_f = current_f\n",
    "    ##########################\n",
    "    # New - track convergence\n",
    "    converged = False\n",
    "    ##########################\n",
    "    # stop search if no better x is found within max_no_improve iterations\n",
    "    num_moves_no_improve = 0\n",
    "    iterations = 0\n",
    "    while (num_moves_no_improve < max_no_improve):\n",
    "        num_moves_no_improve += 1\n",
    "        iterations += 1  # just for tracking\n",
    "        new_x = reassign_one(current_x,k)\n",
    "        new_f = balance_metric(new_x, times, k)\n",
    "        #print('new_f', new_f)\n",
    "        #print('Total assigned to constrained processors', [sum(times[new_x==c]) for c in conproc])\n",
    "        ##################################\n",
    "        # This is the new bit to deal with constraints\n",
    "        over_max = True in [sum(times[new_x==c]) > conmax[c] for c in conproc]\n",
    "        if new_f < current_f and over_max == False:\n",
    "            converged = True\n",
    "        #################################      \n",
    "            num_moves_no_improve = 0\n",
    "            current_x = new_x\n",
    "            current_f = new_f\n",
    "            if current_f < best_f:  \n",
    "                best_x = current_x  \n",
    "                best_f = current_f\n",
    "    return best_x, best_f, iterations, converged"
   ]
  },
  {
   "cell_type": "markdown",
   "metadata": {},
   "source": [
    "Let's run this with a small number of processors and a small number of job execution times. First let's generate some random data and see what the time on each processor would be if it loads were completely balanced."
   ]
  },
  {
   "cell_type": "code",
   "execution_count": 5,
   "metadata": {},
   "outputs": [
    {
     "name": "stdout",
     "output_type": "stream",
     "text": [
      "Total time on each processor, if completely balanced: 1220.6666666666667\n"
     ]
    }
   ],
   "source": [
    "# generate random job times\n",
    "np.random.seed(666) #comment this out to play with new numbers\n",
    "#we'll start with 20 execution times\n",
    "n = 30\n",
    "#we'll start with 2 processors\n",
    "k = 3\n",
    "min_time = 20\n",
    "max_time = 200\n",
    "times = np.random.randint(low=min_time, high = max_time, size = n)\n",
    "assign = np.random.randint(low=0,high=k,size=n)\n",
    "# total time on each processor\n",
    "print('Total time on each processor, if completely balanced:', sum(times)/k)\n"
   ]
  },
  {
   "cell_type": "markdown",
   "metadata": {},
   "source": [
    "#### Running local search with constraints\n",
    "\n",
    "Let's start with setting processor 0 to be constrained to a max processing time of 1100. Run this code several times. How often do you get convergence?"
   ]
  },
  {
   "cell_type": "code",
   "execution_count": 32,
   "metadata": {},
   "outputs": [
    {
     "name": "stdout",
     "output_type": "stream",
     "text": [
      "The algorithm found a solution that met the criteria: True\n",
      "The best assignment is [0 1 2 2 0 1 1 1 1 0 1 2 1 0 1 0 2 0 2 2 0 2 0 1 1 2 2 0 0 2]\n",
      "Total time on each processor: [1086, 1286, 1290]\n",
      "The deviation from balance is 27210.666666666664\n",
      "It took 5053 iterations.\n"
     ]
    }
   ],
   "source": [
    "best_assign, best_f, num_iter, converged = load_balance_local(times,k,5000,[0],[1100]) #adding our 2 additional parameters here\n",
    "print('The algorithm found a solution that met the criteria:', converged)\n",
    "print('The best assignment is', best_assign)\n",
    "print('Total time on each processor:', [ sum(times[best_assign==j]) for j in range(k)])\n",
    "print('The deviation from balance is', best_f)\n",
    "print('It took', num_iter, 'iterations.')"
   ]
  },
  {
   "cell_type": "markdown",
   "metadata": {},
   "source": [
    "What if we wanted to constrain 2 of our processors? Easy! We just add to our conproc and conmax lists. This time, let's constrain processor 0 to a max time of 1200 and processor 1 to a max time of 1100. Again, run this code multiple times and see how often the algorithm converges."
   ]
  },
  {
   "cell_type": "code",
   "execution_count": 27,
   "metadata": {},
   "outputs": [
    {
     "name": "stdout",
     "output_type": "stream",
     "text": [
      "The algorithm found a solution that met the criteria: False\n",
      "The best assignment is [2 1 1 0 0 0 2 2 2 2 2 1 1 2 2 0 1 1 0 0 2 2 1 0 2 0 1 0 2 1]\n",
      "Total time on each processor: [1119, 1172, 1371]\n",
      "The deviation from balance is 35304.666666666664\n",
      "It took 5000 iterations.\n"
     ]
    }
   ],
   "source": [
    "best_assign, best_f, num_iter, converged = load_balance_local(times,k,5000,[0,1],[1200,1100]) #adding our 2 additional parameters here\n",
    "print('The algorithm found a solution that met the criteria:', converged)\n",
    "print('The best assignment is', best_assign)\n",
    "print('Total time on each processor:', [ sum(times[best_assign==j]) for j in range(k)])\n",
    "print('The deviation from balance is', best_f)\n",
    "print('It took', num_iter, 'iterations.')"
   ]
  },
  {
   "cell_type": "markdown",
   "metadata": {},
   "source": [
    "### Simulated Annealing - By Hand - Hard Constraints\n",
    "\n",
    "We can take the same hard constraint approach with our hand-coded simulated annealing problem. Once again, we'll add 2 parameters:\n",
    "\n",
    "* conproc - a list of the processors to constrain\n",
    "* conmax - a list of the max times on each processor.\n",
    "\n",
    "And once again we'll pass back a convergence variable to let us know if we ever found a solution that matched our constraints.\n",
    "\n",
    "We'll use the same set of jobs from the previous example so you can compare. "
   ]
  },
  {
   "cell_type": "code",
   "execution_count": 52,
   "metadata": {},
   "outputs": [
    {
     "name": "stdout",
     "output_type": "stream",
     "text": [
      "The algorithm found a solution that met the criteria: True\n",
      "The best assignment is 25904.666666666664\n",
      "Total time on each processor: [1091, 1267, 1304]\n",
      "The deviation from balance is 25904.666666666664\n"
     ]
    }
   ],
   "source": [
    "\n",
    "def custom_simanneal(times, k, max_no_improve, temp, alpha, conproc, conmax):\n",
    "    #get the length of our jobs\n",
    "    n = len(times)\n",
    "    # starts from a random assignment to k processors\n",
    "    current_x = np.random.randint(low=0,high=k,size=n)\n",
    "    current_f = balance_metric(current_x, times, k)\n",
    "    best_x = current_x\n",
    "    best_f = current_f\n",
    "    \n",
    "    #this is just for tracking\n",
    "    iterations = 1\n",
    "    trajectory = [[iterations,current_f]]\n",
    "    trajectory_best = [[iterations,best_f]]\n",
    "    ##########################\n",
    "    # New - track convergence\n",
    "    converged = False\n",
    "    ##########################\n",
    "\n",
    "    # stop search if no better x is found within max_no_improve iterations\n",
    "    num_moves_no_improve = 0\n",
    "    while (num_moves_no_improve < max_no_improve):\n",
    "        num_moves_no_improve += 1\n",
    "        iterations += 1  # just for tracking\n",
    "        new_x = reassign_one(current_x,k)\n",
    "        new_f = balance_metric(new_x, times, k)\n",
    "        #determine the change in score\n",
    "        delta = new_f - current_f\n",
    "        #determine the probability of accepting this solution\n",
    "        prob = np.exp(min(delta, 0) / temp)\n",
    "        \n",
    "        ##################################\n",
    "        # This is the new bit to deal with constraints\n",
    "        over_max = True in [sum(times[new_x==c]) > conmax[c] for c in conproc]\n",
    "        #determine if we'll accept this solution\n",
    "        accept = (new_f < current_f or np.random.uniform() < prob) and over_max == False\n",
    "        #################################  \n",
    "          \n",
    "        if accept:   \n",
    "            #################\n",
    "            #New\n",
    "            converged = True\n",
    "            #################\n",
    "            current_x = new_x\n",
    "            current_f = new_f\n",
    "            if current_f < best_f:  \n",
    "                best_x = current_x  \n",
    "                best_f = current_f\n",
    "                num_moves_no_improve = 0\n",
    "        temp *= alpha\n",
    "        iterations += 1\n",
    "        trajectory.append([iterations,current_f])\n",
    "        trajectory_best.append([iterations,best_f])        \n",
    "    return best_x, best_f, iterations, trajectory, trajectory_best,converged ####NEW: Return extra variable\n",
    "    \n",
    "\n",
    "#######\n",
    "# New - add the 2 extra parameters\n",
    "best_x, best_f, iterations, trajectory, trajectory_best, converged = custom_simanneal(times, k, 1000, 500, .99, [0],[1100])\n",
    "\n",
    "print('The algorithm found a solution that met the criteria:', converged)\n",
    "print('The best assignment is', best_f)\n",
    "print('Total time on each processor:', [ sum(times[best_x==j]) for j in range(k)])\n",
    "print('The deviation from balance is', best_f)"
   ]
  },
  {
   "cell_type": "markdown",
   "metadata": {},
   "source": [
    "### The simanneal Package - Hard Constraints\n",
    "We can also use a hard constraint with the simanneal package. As a reminder, with simanneal, you don't use external functions. You add your code within the package's move and energy functions. To use a hard constraint in simanneal, you'd enforce the constraint in the **move** function.\n",
    "\n",
    "We again need our two extra variables:\n",
    "* conproc - a list of the processors to constrain\n",
    "* conmax - a list of the max times on each processor.\n",
    "\n",
    "But this time we'll pass them into the initialization function.\n",
    "\n",
    "\n",
    "Let's see what that looks like.\n",
    "\n"
   ]
  },
  {
   "cell_type": "code",
   "execution_count": 62,
   "metadata": {},
   "outputs": [
    {
     "name": "stderr",
     "output_type": "stream",
     "text": [
      " Temperature        Energy    Accept   Improve     Elapsed   Remaining\n",
      "   580.00000      28440.67    55.80%     0.00%     0:00:02     0:00:001 Temperature        Energy    Accept   Improve     Elapsed   Remaining\n",
      "   580.00000      25032.67    54.69%     0.00%     0:00:13     0:00:001"
     ]
    },
    {
     "name": "stdout",
     "output_type": "stream",
     "text": [
      "The best set is:  [1 1 1 1 1 0 0 2 1 2 2 0 2 1 2 1 2 2 0 0 2 2 1 0 1 2 0 2 0 1]\n",
      "Total time on each processor: [1100, 1281, 1281]\n",
      "The best score is: 21840.666666666668\n"
     ]
    }
   ],
   "source": [
    "#this line just imports the package\n",
    "from simanneal import Annealer\n",
    "\n",
    "#this is the line where we decide what we're calling this problem\n",
    "class loadProblem(Annealer):\n",
    "\n",
    "    # Here's where we pass extra data if we need it. We need to pass our times (jobs) variable and the number of servers (k)\n",
    "    def __init__(self, state, times, k, conproc, conmax):\n",
    "        #this line makes the times accessible within the other two functions\n",
    "        self.times = times\n",
    "        self.k = k\n",
    "        self.conproc = conproc\n",
    "        self.conmax = conmax\n",
    "        #this is how we initialize - note we're calling super with the same name as above (loadProblem)\n",
    "        super(loadProblem, self).__init__(state)  # important!\n",
    "\n",
    "    def move(self):\n",
    "        \"\"\"This corresponds to our previous reassign one function\"\"\"\n",
    "        # pick one of the jobs and assign it to one of k processors\n",
    "        \n",
    "        #############################\n",
    "        #NEW - We have to COPY the state\n",
    "        assign = self.state.copy()\n",
    "        n = len(assign)\n",
    "        k = self.k\n",
    "        # choose a job and a new processor assignment\n",
    "        which_job = np.random.randint(0,n,1)[0]\n",
    "        which_proc = np.random.randint(0,k,1)[0]\n",
    "        assign[which_job] = which_proc\n",
    "        \n",
    "        #################################################\n",
    "        # New - hard constraint enforcement\n",
    "        over_max = True in [sum(self.times[assign==c]) > self.conmax[c] for c in self.conproc]\n",
    "        \n",
    "        if over_max == False:\n",
    "            #print('Assign', assign)\n",
    "            #print('Total time on each processor:', [ sum(self.times[assign==j]) for j in range(k)])\n",
    "            #we only update the state if we've met our constraints\n",
    "            self.state = assign\n",
    "        \n",
    "    \n",
    "    def energy(self):\n",
    "        \"\"\"This corresponds to our balance_metric function\"\"\"\n",
    "        times = self.times\n",
    "        assign = self.state\n",
    "        k = self.k\n",
    "        target = sum(times)/k\n",
    "        return sum( (sum(times[assign==j])-target)**2 for j in range(k) )\n",
    "\n",
    "\n",
    "#initialize the class\n",
    "assign = np.array([1,2,2,2,1,2,0,1,2,2,1,1,1,0,2,1,1,0,0,1,2,1,0,2,1,1,2,0,2,0])\n",
    "ld = loadProblem(assign, times, k, [0], [1100])\n",
    "ld.set_schedule(ld.auto(minutes=.2)) #set approximate time to find results\n",
    "\n",
    "# since our state is a numpy array, we need deepcopy\n",
    "ld.copy_strategy = \"deepcopy\" \n",
    "#this is what kicks it off\n",
    "best_assign, best_score = ld.anneal()\n",
    "\n",
    "\n",
    "\n",
    "print('The best set is: ', best_assign)\n",
    "print('Total time on each processor:', [ sum(times[best_assign==j]) for j in range(k)])\n",
    "print('The best score is:', best_score) "
   ]
  },
  {
   "cell_type": "markdown",
   "metadata": {},
   "source": [
    "**Note:** Simanneal evaluates the problem space before running. If your constraint is set too low, simanneal will print the first pink line, and then just hang. If you're playing with this and it gets stuck, you'll need to restart your kernel and loosen your constraints."
   ]
  },
  {
   "cell_type": "markdown",
   "metadata": {},
   "source": [
    "## Soft-Constraints\n",
    "Soft constraints are implemented in the objective function. Instead of rejecting a solution outright, a penalty is incorporated. For a minimization problem, a positive number is added when the constraint isn't met. For a maximization problem, a negative number is added.\n",
    "\n",
    "Let's look at what this would look like with a hand-solved problem.\n",
    "\n",
    "We'll keep our original objective function (balanced_metric), but we'll add a new wrapper function (balanced_metric_constrained). This one will take in 2 additional parameters:\n",
    "* a list of constrained processors\n",
    "* a list of the max times on each processor"
   ]
  },
  {
   "cell_type": "code",
   "execution_count": 65,
   "metadata": {},
   "outputs": [],
   "source": [
    "\n",
    "# constrained objective function = total squared deviation of times from balanced times, providing a penalty for constraints\n",
    "def balance_metric_constrained(assign,times,k,conproc,conmax):\n",
    "    #sum the unconstrained processor deviation\n",
    "    dev_uncon = balance_metric(assign,times,k)\n",
    "    #sum the constrained processors\n",
    "    penalty_multiplier = 5\n",
    "    dev_penalty = penalty_multiplier * sum( max(sum(times[assign==c])-conmax[c],0)**2 for c in conproc )\n",
    "\n",
    "    return dev_uncon + dev_penalty"
   ]
  },
  {
   "cell_type": "markdown",
   "metadata": {},
   "source": [
    "### Testing the Soft Constraint\n",
    "\n",
    "We'll test our two functions with some hand-coded assignments. We'll use 9 jobs on 3 processors. First we'll look at them as an unconstrained, perfectly balanced problem."
   ]
  },
  {
   "cell_type": "code",
   "execution_count": 63,
   "metadata": {},
   "outputs": [
    {
     "name": "stdout",
     "output_type": "stream",
     "text": [
      "Total time on each processor: [12, 12, 12]\n",
      "Unconstrained Balance Metric: 0.0\n"
     ]
    }
   ],
   "source": [
    "#testing perfectly balanced unconstrained\n",
    "k = 3\n",
    "times = np.array([2,4,6,2,4,6,2,4,6])\n",
    "assign=np.array([0,0,0,1,1,1,2,2,2])\n",
    "\n",
    "# total time on each processor ... should be the same\n",
    "print('Total time on each processor:', [ sum(times[assign==j]) for j in range(k)])\n",
    "#print the original balance metric\n",
    "print('Unconstrained Balance Metric:', balance_metric(assign,times,k))"
   ]
  },
  {
   "cell_type": "markdown",
   "metadata": {},
   "source": [
    "Now we'll add some constraints. Note that neither our times nor assignments are changing. But, we're essentially changing the target for some of our processors. We're going to set processor 0 to a max limit of 10."
   ]
  },
  {
   "cell_type": "code",
   "execution_count": 66,
   "metadata": {},
   "outputs": [
    {
     "name": "stdout",
     "output_type": "stream",
     "text": [
      "Total time on each processor (has not changed): [12, 12, 12]\n",
      "Constrained Balance Metric: 20.0\n"
     ]
    }
   ],
   "source": [
    "# total time on each processor has not changed\n",
    "print('Total time on each processor (has not changed):', [ sum(times[assign==j]) for j in range(k)])\n",
    "#Constrain processor 1 to 10\n",
    "print('Constrained Balance Metric:', balance_metric_constrained(assign,times,k,[0],[10]))"
   ]
  },
  {
   "cell_type": "markdown",
   "metadata": {},
   "source": [
    "With the constraint in place, what was a completely balanced solution no longer looks so great. What would happen if we switch our assignments around some?"
   ]
  },
  {
   "cell_type": "code",
   "execution_count": 67,
   "metadata": {},
   "outputs": [
    {
     "name": "stdout",
     "output_type": "stream",
     "text": [
      "Total time on each processor (has changed): [10, 14, 12]\n",
      "Balance Metric without constraints 8.0\n",
      "Constrained Balance Metric: 8.0\n"
     ]
    }
   ],
   "source": [
    "#new assignments\n",
    "assign=np.array([1,0,0,1,1,1,2,2,2])\n",
    "print('Total time on each processor (has changed):', [ sum(times[assign==j]) for j in range(k)])\n",
    "\n",
    "#check the unconstrained balance metric\n",
    "print('Balance Metric without constraints', balance_metric(assign,times,k))\n",
    "#check the constrained balance metric\n",
    "print('Constrained Balance Metric:', balance_metric_constrained(assign,times,k,[0],[10]))"
   ]
  },
  {
   "cell_type": "markdown",
   "metadata": {},
   "source": [
    "Here, we've met our constraint, so our unconstrained and constrained balance metrics match."
   ]
  },
  {
   "cell_type": "markdown",
   "metadata": {},
   "source": [
    "### The simanneal Package - Soft Constraint\n",
    "With simanneal, instead of adding our hard constraint to the move() function, we'd add our soft constraint to the energy() function.\n"
   ]
  },
  {
   "cell_type": "code",
   "execution_count": null,
   "metadata": {},
   "outputs": [],
   "source": []
  }
 ],
 "metadata": {
  "kernelspec": {
   "display_name": "Python 3",
   "language": "python",
   "name": "python3"
  },
  "language_info": {
   "codemirror_mode": {
    "name": "ipython",
    "version": 3
   },
   "file_extension": ".py",
   "mimetype": "text/x-python",
   "name": "python",
   "nbconvert_exporter": "python",
   "pygments_lexer": "ipython3",
   "version": "3.7.3"
  },
  "toc": {
   "base_numbering": 1,
   "nav_menu": {},
   "number_sections": true,
   "sideBar": true,
   "skip_h1_title": false,
   "title_cell": "Table of Contents",
   "title_sidebar": "Contents",
   "toc_cell": false,
   "toc_position": {
    "height": "calc(100% - 180px)",
    "left": "10px",
    "top": "150px",
    "width": "250.696px"
   },
   "toc_section_display": true,
   "toc_window_display": true
  },
  "varInspector": {
   "cols": {
    "lenName": 16,
    "lenType": 16,
    "lenVar": 40
   },
   "kernels_config": {
    "python": {
     "delete_cmd_postfix": "",
     "delete_cmd_prefix": "del ",
     "library": "var_list.py",
     "varRefreshCmd": "print(var_dic_list())"
    },
    "r": {
     "delete_cmd_postfix": ") ",
     "delete_cmd_prefix": "rm(",
     "library": "var_list.r",
     "varRefreshCmd": "cat(var_dic_list()) "
    }
   },
   "types_to_exclude": [
    "module",
    "function",
    "builtin_function_or_method",
    "instance",
    "_Feature"
   ],
   "window_display": false
  }
 },
 "nbformat": 4,
 "nbformat_minor": 2
}
