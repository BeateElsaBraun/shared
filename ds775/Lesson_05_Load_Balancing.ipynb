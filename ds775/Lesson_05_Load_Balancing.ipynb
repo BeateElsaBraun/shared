{
 "cells": [
  {
   "cell_type": "markdown",
   "metadata": {},
   "source": [
    "# Load Balancing Example\n",
    "\n",
    "In this example we're going to show how you could use various approaches to solve a load balancing problem. Load balancing is when you want to divide a workload as evenly as possible among a set of resources. If we're talking execution times on servers, we can describe it as:\n",
    "\n",
    "given a list of $n$ execution times, divide them to be executed on $k$ processors so that the total execution time on each processor is as close to the same as possible.\n",
    "\n",
    "Let's look at a quick example to illustrate this. Say we had 4 jobs that needed to execute and they had the following times: [2,2,4,4]\n",
    "\n",
    "If we had 2 servers to divide them between, we could have one server do [2,2] and one server do [2,4] or we could have each server do [2,4]. (We could also have one server doing [2,2,4] and one doing [4], but we'll keep it simple for this example.)\n",
    "\n",
    "Our objective function is total squared deviation of times from balanced times. What does that mean? Well, balanced times is when the total execution time on each server is the same as every other server. But, if our loads are out of balance, some servers will be doing much more work. We want to know the difference between what each server would run if things were in balance and what they are actually running.\n",
    "\n",
    "Given $s$ is the sum of all execution times, and $k$ is the number of servers, determing our objective function by hand would look like this:\n",
    "\n",
    "<img src=\"images/startloadbalancing.png\"/>\n",
    "\n",
    "If we were perfectly load balanced, it would look like this:\n",
    "\n",
    "<img src=\"images/endloadbalancing.png\"/>\n",
    "\n",
    "Let's dive into working out this same problem in Python.\n",
    "\n",
    "First we'll set our times as a numpy array and we'll create an objective function that does all our calculations for us. In order for the objective function to work, we need to know how to assign each execution time. We'll create another numpy array that has the number of the server to assign to, and we'll use index filtering to fetch each \"set\" of processing times. (We'll walk you through what we're talking about in the comments below.)"
   ]
  },
  {
   "cell_type": "code",
   "execution_count": 14,
   "metadata": {},
   "outputs": [
    {
     "name": "stdout",
     "output_type": "stream",
     "text": [
      "These are the times on server 0: [2 2]\n",
      "Total execution time on server 0: 4\n",
      "These are the times on server 1: [4 4]\n",
      "Total execution time on server 1: 8\n"
     ]
    }
   ],
   "source": [
    "import numpy as np\n",
    "import pandas as pd\n",
    "\n",
    "#set our execution times\n",
    "times = np.array([2,4,2,4])\n",
    "#set our number of servers\n",
    "k = 2\n",
    "\n",
    "#set up an array that assigns each execution time to a one of the servers\n",
    "assign = np.array([0,1,0,1])\n",
    "#see which times are assigned to server 0\n",
    "print('These are the times on server 0:', times[assign==0])\n",
    "print('Total execution time on server 0:', sum(times[assign==0]))\n",
    "print('These are the times on server 1:', times[assign==1])\n",
    "print('Total execution time on server 1:', sum(times[assign==1]))\n"
   ]
  },
  {
   "cell_type": "markdown",
   "metadata": {},
   "source": [
    "### Objective Function\n",
    "The following balance_metric function is our objective function. It takes in the assignments, the execution times, and the $k$ number of servers. First it calculates the target - the ideal processing time for each server. Then it calculates the squared difference from the target for each server and sums up all the differences to get our total deviation from the ideal."
   ]
  },
  {
   "cell_type": "code",
   "execution_count": 15,
   "metadata": {},
   "outputs": [],
   "source": [
    "# objective function = total squared deviation of times from balanced times\n",
    "def balance_metric(assign,times,k):\n",
    "    target = sum(times)/k\n",
    "    return sum( (sum(times[assign==j])-target)**2 for j in range(k) )"
   ]
  },
  {
   "cell_type": "markdown",
   "metadata": {},
   "source": [
    "Let's determine what our deviation is for our current example."
   ]
  },
  {
   "cell_type": "code",
   "execution_count": 16,
   "metadata": {},
   "outputs": [
    {
     "name": "stdout",
     "output_type": "stream",
     "text": [
      "The difference is:  8.0\n"
     ]
    }
   ],
   "source": [
    "print('The difference is: ', balance_metric(assign, times, k))"
   ]
  },
  {
   "cell_type": "markdown",
   "metadata": {},
   "source": [
    "It's easy to see how our processes should be assigned. So let's fix our assignments to get balanced servers and run our metric again."
   ]
  },
  {
   "cell_type": "code",
   "execution_count": 17,
   "metadata": {},
   "outputs": [
    {
     "name": "stdout",
     "output_type": "stream",
     "text": [
      "The new difference is:  0.0\n"
     ]
    }
   ],
   "source": [
    "#set up an array that assigns each execution time to a one of the servers\n",
    "assign = np.array([0,0,1,1])\n",
    "print('The new difference is: ', balance_metric(assign, times, k))"
   ]
  },
  {
   "cell_type": "markdown",
   "metadata": {},
   "source": [
    "Perfect! We now have completely balanced servers.\n",
    "\n",
    "Of course, we'd typically be dealing with larger loads and possibly more servers and we don't want to balance them by hand. In order to let the algorithms do the work for us, we need a function that reassigns one execution time to a different server. \n",
    "\n",
    "Below is the reassign_one function. It takes in the assignments and the number of servers and it swaps an execution time from one server to another.\n"
   ]
  },
  {
   "cell_type": "code",
   "execution_count": 27,
   "metadata": {},
   "outputs": [],
   "source": [
    "# define a move function which changes one processor assignment randomly\n",
    "def reassign_one(assign,k):\n",
    "    # pick one of the jobs and assign it to one of k processors\n",
    "    n = len(assign)\n",
    "    # choose a job and a new processor assignment\n",
    "    which_job = np.random.randint(0,n,1)[0]\n",
    "    which_proc = np.random.randint(0,k,1)[0]\n",
    "    new_assign = assign.copy()\n",
    "    new_assign[which_job] = which_proc\n",
    "    return new_assign\n"
   ]
  },
  {
   "cell_type": "markdown",
   "metadata": {},
   "source": [
    "Let's walk through some of what this code is doing. First, it's choosing a job to reassign, that's the \"which_job\" variable. Let's look at what gets assigned to which processor if we just call that line of code with a new, randomly generated set of execution times. We're generating one random integer between 0 and the total number of execution times. This comes back as an array, so we need to fetch just the first item in the array."
   ]
  },
  {
   "cell_type": "code",
   "execution_count": 39,
   "metadata": {},
   "outputs": [
    {
     "name": "stdout",
     "output_type": "stream",
     "text": [
      "The jobs are: [8 6 5 5]\n",
      "The assignments are: [0 0 1 0]\n",
      "We will reassign job: 1\n"
     ]
    }
   ],
   "source": [
    "#still working with 4 jobs and 2 servers\n",
    "n = 4\n",
    "k = 2\n",
    "#we're going to set some min/max times here for the jobs\n",
    "min_time = 5\n",
    "max_time = 10\n",
    "#randomly generate some jobs\n",
    "times = np.random.randint(low=min_time, high = max_time, size = n)\n",
    "#set up a random assignment\n",
    "assign = np.random.randint(low=0,high=k,size=n)\n",
    "print('The jobs are:', times)\n",
    "print('The assignments are:', assign)\n",
    "\n",
    "#Run the which_job line to see which job we're going to reassign\n",
    "which_job = np.random.randint(0,n,1)[0]\n",
    "print('We will reassign job:', which_job)"
   ]
  },
  {
   "cell_type": "markdown",
   "metadata": {},
   "source": [
    "Then, we can decide which processor to assign it to. We're choose 1 random integer between 0 and the total number of servers. This comes back as an array, so we need to fetch just the first item in the array again.\n",
    "\n",
    "Then we make a copy of the assignments and use the which_job variable to assign a new processor to a single job execution time."
   ]
  },
  {
   "cell_type": "code",
   "execution_count": 40,
   "metadata": {},
   "outputs": [
    {
     "name": "stdout",
     "output_type": "stream",
     "text": [
      "It will get assigned to server: 1\n",
      "The new assignments are [0 1 1 0]\n"
     ]
    }
   ],
   "source": [
    "#this line determines which processor to assign it to:\n",
    "which_proc = np.random.randint(0,k,1)[0]\n",
    "print('It will get assigned to server:', which_proc)\n",
    "\n",
    "#we copy the assignments so that we're not disturbing the original assignments\n",
    "#then we use the which_job variable to fetch the one we want to reassign and give it the new assignment\n",
    "new_assign = assign.copy()\n",
    "new_assign[which_job] = which_proc\n",
    "print('The new assignments are', new_assign)"
   ]
  },
  {
   "cell_type": "markdown",
   "metadata": {},
   "source": [
    "Let's see what happens when we call our function. Call this code a bunch of times and you can see how the assignments change."
   ]
  },
  {
   "cell_type": "code",
   "execution_count": 41,
   "metadata": {},
   "outputs": [
    {
     "data": {
      "text/plain": [
       "array([0, 0, 1, 0])"
      ]
     },
     "execution_count": 41,
     "metadata": {},
     "output_type": "execute_result"
    }
   ],
   "source": [
    "reassign_one(assign,k)"
   ]
  },
  {
   "cell_type": "markdown",
   "metadata": {},
   "source": [
    "## Greedy Local Search\n",
    "\n",
    "Greedy local search is like our hill-climbing examples. We're going to swap one job at a time. If we are closer to being in balance, we'll keep the new assignments. If not, we'll stick with what we had. We'll keep doing this until we hit our maximum no improvement rounds. \n",
    "\n",
    "For this algorithm, we don't pass in initial assignments. Our load_balance_local takes care of setting an initial assignment for us.\n",
    "\n",
    "The function takes in the execution times, the number of servers, and the maximum rounds we'll go without seeing improvement. It returns the best assignment, the smallest deviation from complete balance, and the number of iterations it took to get there."
   ]
  },
  {
   "cell_type": "code",
   "execution_count": 43,
   "metadata": {},
   "outputs": [],
   "source": [
    "\n",
    "# local search function\n",
    "def load_balance_local(times, k, max_no_improve):\n",
    "    n = len(times)\n",
    "    # starts from a random assignment to k processors\n",
    "    current_x = np.random.randint(low=0,high=k,size=n)\n",
    "    current_f = balance_metric(current_x, times, k)\n",
    "    best_x = current_x\n",
    "    best_f = current_f\n",
    "\n",
    "    # stop search if no better x is found within max_no_improve iterations\n",
    "    num_moves_no_improve = 0\n",
    "    iterations = 0\n",
    "    while (num_moves_no_improve < max_no_improve):\n",
    "        num_moves_no_improve += 1\n",
    "        iterations += 1  # just for tracking\n",
    "        new_x = reassign_one(current_x,k)\n",
    "        new_f = balance_metric(new_x, times, k)\n",
    "        if new_f < current_f:\n",
    "            num_moves_no_improve = 0\n",
    "            current_x = new_x\n",
    "            current_f = new_f\n",
    "            if current_f < best_f:  \n",
    "                best_x = current_x  \n",
    "                best_f = current_f\n",
    "    return best_x, best_f, iterations"
   ]
  },
  {
   "cell_type": "markdown",
   "metadata": {},
   "source": [
    "Let's run this with a small number of servers and a small number of execution times. Does your deviation hit zero?"
   ]
  },
  {
   "cell_type": "code",
   "execution_count": 64,
   "metadata": {},
   "outputs": [],
   "source": [
    "# generate random job times\n",
    "np.random.seed(666) #comment this out to play with new numbers\n",
    "#we'll start with 100 execution times\n",
    "n = 20\n",
    "#we'll start with 5 servers\n",
    "k = 2\n",
    "min_time = 20\n",
    "max_time = 200\n",
    "times = np.random.randint(low=min_time, high = max_time, size = n)"
   ]
  },
  {
   "cell_type": "code",
   "execution_count": 70,
   "metadata": {},
   "outputs": [
    {
     "name": "stdout",
     "output_type": "stream",
     "text": [
      "The best assignment is [0 1 1 1 0 0 1 1 0 0 0 0 0 0 1 1 0 1 0 1]\n",
      "The deviation from balance is 544.5\n",
      "It took 5029 iterations.\n"
     ]
    }
   ],
   "source": [
    "best_assign, best_f, num_iter = load_balance_local(times,k,5000)\n",
    "print('The best assignment is', best_assign)\n",
    "print('The deviation from balance is', best_f)\n",
    "print('It took', num_iter, 'iterations.')"
   ]
  },
  {
   "cell_type": "markdown",
   "metadata": {},
   "source": [
    "### Checking our work\n",
    "We can look at the total time on each processor to see how close they were. Ideally, they'd be the same. "
   ]
  },
  {
   "cell_type": "code",
   "execution_count": 72,
   "metadata": {},
   "outputs": [
    {
     "data": {
      "text/plain": [
       "[1204, 1171]"
      ]
     },
     "execution_count": 72,
     "metadata": {},
     "output_type": "execute_result"
    }
   ],
   "source": [
    "# total time on each processor ... should be about the same\n",
    "[ sum(times[best_assign==j]) for j in range(k)]"
   ]
  },
  {
   "cell_type": "markdown",
   "metadata": {},
   "source": [
    "There's randomness here, so some runs will be better than others. But, even if it seems like your best deviation wasn't that great, it was probably still better than random assignments. Let's compare by doing a random assignment of the processes and see what the time was on each server."
   ]
  },
  {
   "cell_type": "code",
   "execution_count": 73,
   "metadata": {},
   "outputs": [
    {
     "data": {
      "text/plain": [
       "[1641, 734]"
      ]
     },
     "execution_count": 73,
     "metadata": {},
     "output_type": "execute_result"
    }
   ],
   "source": [
    "# for comparison here are total times on each processor for random assignment\n",
    "assign = np.random.choice(k, size = n, replace = True)\n",
    "[ sum(times[assign==j]) for j in range(k)]"
   ]
  },
  {
   "cell_type": "code",
   "execution_count": null,
   "metadata": {},
   "outputs": [],
   "source": []
  }
 ],
 "metadata": {
  "kernelspec": {
   "display_name": "Python 3",
   "language": "python",
   "name": "python3"
  },
  "language_info": {
   "codemirror_mode": {
    "name": "ipython",
    "version": 3
   },
   "file_extension": ".py",
   "mimetype": "text/x-python",
   "name": "python",
   "nbconvert_exporter": "python",
   "pygments_lexer": "ipython3",
   "version": "3.7.4"
  },
  "toc": {
   "base_numbering": 1,
   "nav_menu": {},
   "number_sections": true,
   "sideBar": true,
   "skip_h1_title": false,
   "title_cell": "Table of Contents",
   "title_sidebar": "Contents",
   "toc_cell": false,
   "toc_position": {
    "height": "calc(100% - 180px)",
    "left": "10px",
    "top": "150px",
    "width": "250.696px"
   },
   "toc_section_display": true,
   "toc_window_display": true
  },
  "varInspector": {
   "cols": {
    "lenName": 16,
    "lenType": 16,
    "lenVar": 40
   },
   "kernels_config": {
    "python": {
     "delete_cmd_postfix": "",
     "delete_cmd_prefix": "del ",
     "library": "var_list.py",
     "varRefreshCmd": "print(var_dic_list())"
    },
    "r": {
     "delete_cmd_postfix": ") ",
     "delete_cmd_prefix": "rm(",
     "library": "var_list.r",
     "varRefreshCmd": "cat(var_dic_list()) "
    }
   },
   "types_to_exclude": [
    "module",
    "function",
    "builtin_function_or_method",
    "instance",
    "_Feature"
   ],
   "window_display": false
  }
 },
 "nbformat": 4,
 "nbformat_minor": 2
}
