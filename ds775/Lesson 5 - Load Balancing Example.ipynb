{
 "cells": [
  {
   "cell_type": "markdown",
   "metadata": {},
   "source": [
    "# Metaheuristics - Load Balancing Example\n",
    "\n",
    "In this example, we have a list of N job running times. We want to split the N job running times equally across K servers such that the average running time on each server is as close to equal as we can get. N should be evenly divisible by K. \n",
    "\n",
    "If we let s be the sum of all the jobs:\n",
    "\n",
    "$ s = \\sum_{n \\in N}$\n",
    "\n",
    "then our objective function is:\n",
    "\n",
    "$ \\sum((\\sum_{k in K}/K)^2) $\n",
    "\n",
    "Let's work a small example by hand. Say we have 4 jobs with the following run times: [2,2,4,4]. If we have 2 servers, we need to allocate 2 jobs to each server. If we started by just splitting them halfway through the list, we'd end up with this:\n",
    "\n",
    "\n",
    "\n"
   ]
  },
  {
   "cell_type": "code",
   "execution_count": 6,
   "metadata": {},
   "outputs": [
    {
     "name": "stdout",
     "output_type": "stream",
     "text": [
      "s= 12\n",
      "8.0\n",
      "0.0\n"
     ]
    }
   ],
   "source": [
    "start = [2,2,4,4]\n",
    "s = sum(start)\n",
    "print('s=', s)\n",
    "print(((2+2)-(2+2+4+4)/2)**2  + ((4+4)-(2+2+4+4)/2)**2)\n",
    "print(((2+4)-(2+2+4+4)/2)**2  + ((2+4)-(2+2+4+4)/2)**2)\n",
    "\n"
   ]
  }
 ],
 "metadata": {
  "kernelspec": {
   "display_name": "Python 3",
   "language": "python",
   "name": "python3"
  },
  "language_info": {
   "codemirror_mode": {
    "name": "ipython",
    "version": 3
   },
   "file_extension": ".py",
   "mimetype": "text/x-python",
   "name": "python",
   "nbconvert_exporter": "python",
   "pygments_lexer": "ipython3",
   "version": "3.7.4"
  }
 },
 "nbformat": 4,
 "nbformat_minor": 2
}
