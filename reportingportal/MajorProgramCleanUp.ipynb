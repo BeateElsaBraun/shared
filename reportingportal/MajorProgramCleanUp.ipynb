{
 "cells": [
  {
   "cell_type": "code",
   "execution_count": null,
   "metadata": {
    "collapsed": true
   },
   "outputs": [],
   "source": [
    "import json\n",
    "import pandas as pd\n",
    "import re \n"
   ]
  },
  {
   "cell_type": "code",
   "execution_count": null,
   "metadata": {},
   "outputs": [],
   "source": [
    "with open('majorprogram3.json', encoding=\"utf8\") as data_file:\n",
    "    programs_j = json.loads(data_file.read())\n",
    "\n",
    "#see how many records are in the set    \n",
    "len(programs_j[\"records\"])  "
   ]
  },
  {
   "cell_type": "code",
   "execution_count": null,
   "metadata": {},
   "outputs": [],
   "source": [
    "print(programs_j[\"records\"][0])"
   ]
  },
  {
   "cell_type": "code",
   "execution_count": null,
   "metadata": {
    "collapsed": true
   },
   "outputs": [],
   "source": [
    "from html.parser import HTMLParser\n",
    "\n",
    "class MLStripper(HTMLParser):\n",
    "    def __init__(self):\n",
    "        self.reset()\n",
    "        self.strict = False\n",
    "        self.convert_charrefs= True\n",
    "        self.fed = []\n",
    "    def handle_data(self, d):\n",
    "        self.fed.append(d)\n",
    "    def get_data(self):\n",
    "        return ''.join(self.fed)\n",
    "\n",
    "def strip_tags(html):\n",
    "    s = MLStripper()\n",
    "    s.feed(html)\n",
    "    s = s.get_data()\n",
    "    #after stripping html, strip the extra white space junk\n",
    "    s = strip_extra_space(s)\n",
    "    return s\n",
    "\n",
    "def strip_extra_space(inText):\n",
    "    #replace new lines with hat\n",
    "    s = inText.replace('\\n', '^')\n",
    "    #get rid of extra white space\n",
    "    s = ' '.join(s.split())\n",
    "\n",
    "    #replace 2 hats with new lines again\n",
    "    s = re.sub('\\^\\^+', '\\n', s)\n",
    "    #replace single hat with a space\n",
    "    s = re.sub('\\^', ' ', s)\n",
    "    #replace newline and space with 2 newlines\n",
    "    s = re.sub('\\n +', '\\n\\n', s)\n",
    "       \n",
    "    return s"
   ]
  },
  {
   "cell_type": "code",
   "execution_count": null,
   "metadata": {},
   "outputs": [],
   "source": [
    "first = programs_j[\"records\"][0]\n",
    "print(strip_tags(first['field_174_raw']))\n",
    "\n"
   ]
  },
  {
   "cell_type": "code",
   "execution_count": null,
   "metadata": {
    "collapsed": true
   },
   "outputs": [],
   "source": [
    "def get_attribute(data, attribute, default_value):\n",
    "    return data.get(attribute) or default_value"
   ]
  },
  {
   "cell_type": "code",
   "execution_count": null,
   "metadata": {},
   "outputs": [],
   "source": [
    "#create a list to hold cleaned up stuff\n",
    "listOfLists = []\n",
    "for p in programs_j[\"records\"]:\n",
    "    #create a new list\n",
    "    thisProgram = []\n",
    "    #append the id\n",
    "    thisProgram.append(p['id'])\n",
    "    #append the title (field 169)\n",
    "    thisProgram.append(p['field_169'])\n",
    "    #the author is field 170, and the name is buried in the raw identifier\n",
    "    thisProgram.append(p['field_170_raw'][0]['identifier'])\n",
    "    \n",
    "    #field 180 is the home office location, and can be multiple or blank\n",
    "    HOLS = get_attribute(p, 'field_180_raw', [])\n",
    "    homeoffices = []\n",
    "    for HOL in HOLS:\n",
    "        homeoffices.append(HOL['identifier'])\n",
    "    if len(homeoffices) > 0:\n",
    "        thisProgram.append(','.join(homeoffices)) \n",
    "    else:\n",
    "        thisProgram.append(' ')\n",
    "    \n",
    "    #field 232 is \"Does this cover statewide work?\"\n",
    "    thisProgram.append(p['field_232'])\n",
    "    #filed 233 is \"Does this cover multi-state work?\n",
    "    thisProgram.append(p['field_233'])\n",
    "    \n",
    "    #field 171 is institute and can be multiple or blank\n",
    "    institutes_field = get_attribute(p, 'field_171_raw', [])\n",
    "    institutes = []\n",
    "    for i in institutes_field:\n",
    "        institutes.append(i['identifier'])\n",
    "    if len(institutes) > 0:\n",
    "        thisProgram.append(','.join(institutes)) \n",
    "    else:\n",
    "        thisProgram.append(' ')\n",
    "    \n",
    "    #field 172 is program1 and can be multiple or blank\n",
    "    programs1_field = get_attribute(p, 'field_172_raw', [])\n",
    "    programs1 = []\n",
    "    for p1 in programs1_field:\n",
    "        programs1.append(p1['identifier'])\n",
    "    if len(programs1) > 0:\n",
    "        thisProgram.append(','.join(programs1)) \n",
    "    else:\n",
    "        thisProgram.append(' ')\n",
    "    \n",
    "    #field 173 is program2 and can be multiple\n",
    "    programs2_field = get_attribute(p, 'field_173_raw', [])\n",
    "    programs2 = []\n",
    "    for p2 in programs2_field:\n",
    "        programs2.append(p2['identifier'])\n",
    "    if len(programs2) > 0:    \n",
    "        thisProgram.append(','.join(programs2))\n",
    "    else:\n",
    "        thisProgram.append(' ')\n",
    "        \n",
    "    #field 174 is the situation statement\n",
    "    situation = get_attribute(p, 'field_174', ' ')\n",
    "    thisProgram.append(situation)\n",
    "    #also provide it without html\n",
    "    thisProgram.append(strip_tags(situation))\n",
    "    \n",
    "    #field 175 is the target audience\n",
    "    audience = get_attribute(p, 'field_175', ' ')\n",
    "    thisProgram.append(audience)\n",
    "    #also provide it without html\n",
    "    thisProgram.append(strip_tags(audience))\n",
    "    \n",
    "    #field 176 is the outcome\n",
    "    outcome = get_attribute(p, 'field_176', ' ')\n",
    "    thisProgram.append(outcome)\n",
    "    #also provide it without html\n",
    "    thisProgram.append(strip_tags(outcome))\n",
    "    \n",
    "    #field 178 is the action plan\n",
    "    action = get_attribute(p, 'field_178', ' ')\n",
    "    thisProgram.append(action)\n",
    "    #also provide it without html\n",
    "    thisProgram.append(strip_tags(action))\n",
    "    \n",
    "    #field 191 is the professional development\n",
    "    prodev = get_attribute(p, 'field_191', ' ')\n",
    "    thisProgram.append(prodev)\n",
    "    #also provide it without html\n",
    "    thisProgram.append(strip_tags(prodev))\n",
    "    \n",
    "     #field 179 is the eval plan\n",
    "    evalplan = get_attribute(p, 'field_179', ' ')\n",
    "    thisProgram.append(evalplan)\n",
    "    #also provide it without html\n",
    "    thisProgram.append(strip_tags(evalplan))\n",
    "    \n",
    "    listOfLists.append(thisProgram)\n",
    "\n",
    "#make a dataframe\n",
    "df = pd.DataFrame(listOfLists, columns=['ID','Title','Author','Home Office','Statewide Work', \n",
    "                                        'Multi-State Work', 'Institute', 'Program Level 1', 'Program Level 2',\n",
    "                                       'Situation Statement', 'Situation Statement Clean', \n",
    "                                        'Target Audience', 'Target Audience Clean',\n",
    "                                       'Outcome', 'Outcome Clean',\n",
    "                                       'Action Plan', 'Action Plan Clean',\n",
    "                                       'Professional Development', 'Professional Development Clean',\n",
    "                                       'Evaluation Plan', 'Evaluation Plan Clean'])\n",
    "df    "
   ]
  },
  {
   "cell_type": "code",
   "execution_count": null,
   "metadata": {
    "collapsed": true
   },
   "outputs": [],
   "source": [
    "df.to_csv('PlansOfWork.csv', sep='|')\n"
   ]
  }
 ],
 "metadata": {
  "kernelspec": {
   "display_name": "Python 3",
   "language": "python",
   "name": "python3"
  },
  "language_info": {
   "codemirror_mode": {
    "name": "ipython",
    "version": 3
   },
   "file_extension": ".py",
   "mimetype": "text/x-python",
   "name": "python",
   "nbconvert_exporter": "python",
   "pygments_lexer": "ipython3",
   "version": "3.6.2"
  }
 },
 "nbformat": 4,
 "nbformat_minor": 2
}
